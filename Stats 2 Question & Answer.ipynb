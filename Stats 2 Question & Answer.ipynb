{
 "cells": [
  {
   "cell_type": "code",
   "execution_count": 10,
   "metadata": {},
   "outputs": [],
   "source": [
    "# Importing  libraries\n",
    "import numpy as np \n",
    "#import matplotlib.pyplot as plt\n",
    "#from scipy.stats import binom \n",
    "from scipy.special import factorial\n",
    "import math"
   ]
  },
  {
   "cell_type": "code",
   "execution_count": 2,
   "metadata": {},
   "outputs": [
    {
     "name": "stdout",
     "output_type": "stream",
     "text": [
      "The probability that a person undertaking that test has answered exactly 5 questions wrong is = 0.0000034\n"
     ]
    }
   ],
   "source": [
    "# 1.\n",
    "a = 20\n",
    "b = 15\n",
    "c = 1/4\n",
    "d = 3/4\n",
    "px = (math.factorial(a) / (math.factorial(b) * math.factorial(a-b))) * pow(c, b) * pow(d, a-b)\n",
    "\n",
    "print(\"The probability that a person undertaking that test has answered exactly 5 questions wrong is =\", format(px, '.7f'))"
   ]
  },
  {
   "cell_type": "code",
   "execution_count": 4,
   "metadata": {},
   "outputs": [
    {
     "name": "stdout",
     "output_type": "stream",
     "text": [
      "The probability of getting a 'D' in 5 throws out of 50 number of trails conducted is 0.2\n"
     ]
    }
   ],
   "source": [
    "# 2 \n",
    "\n",
    "a = 50\n",
    "b = 5\n",
    "c = a-b\n",
    "\n",
    "d = 1/b # probability of success.\n",
    "e = 1-d # probability of failure.\n",
    "\n",
    "print(\"The probability of getting a 'D' in {} throws out of {} number of trails conducted is {}\".format(b,a,d))\n"
   ]
  },
  {
   "cell_type": "code",
   "execution_count": 15,
   "metadata": {},
   "outputs": [
    {
     "name": "stdout",
     "output_type": "stream",
     "text": [
      "8.201583102376753e-11\n",
      "8.201583102376753e-11\n",
      "The probabilities of all possible outcomes of picking Red ball first,Black Ball second is (0.40,0.67)\n",
      "The probabilities of all possible outcomes of picking black ball first,red Ball second is (0.67,0.40)\n",
      "The probabilities of all possible outcomes of picking both the balls as black is 0.0000000002\n",
      "The probabilities of all possible outcomes of picking both the balls as red is 0.0000000001\n"
     ]
    }
   ],
   "source": [
    "# 3\n",
    "red = 4 \n",
    "black = 6 \n",
    "total_balls = red + black\n",
    "\n",
    "#  If red balls first then the probability is 4/10. \n",
    "red_ball = red / total_balls\n",
    "\n",
    "#  If second black balls then the probability is 6/9. \n",
    "black_ball = black / (total_balls - 1)\n",
    "\n",
    "#  If black balls first then the probability is 6/10. \n",
    "black_ball1 = black / total_balls\n",
    "\n",
    "#  If red balls second the probability is 4/9. \n",
    "red_ball1 = red / (total_balls - 1)\n",
    "\n",
    "P_r = (factorial(red) / (factorial(2) * factorial(red - 2))) / (factorial(total_balls) / factorial(2)* factorial(total_balls - 2))\n",
    "print(P_r)\n",
    "\n",
    "P_b = (factorial(black) / (factorial(2) * factorial(black - 2))) / (factorial(total_balls) / factorial(2)* factorial(total_balls - 2))\n",
    "print(P_r)\n",
    "\n",
    "print(\"The probabilities of all possible outcomes of picking Red ball first,Black Ball second is ({:0.2f},{:0.2f})\".format (red_ball,black_ball))\n",
    "print(\"The probabilities of all possible outcomes of picking black ball first,red Ball second is ({:0.2f},{:0.2f})\".format (black_ball,red_ball)) \n",
    "print(\"The probabilities of all possible outcomes of picking both the balls as black is {:0.10f}\".format(P_b))\n",
    "print(\"The probabilities of all possible outcomes of picking both the balls as red is {:0.10f}\".format(P_r))"
   ]
  },
  {
   "cell_type": "code",
   "execution_count": null,
   "metadata": {},
   "outputs": [],
   "source": []
  }
 ],
 "metadata": {
  "kernelspec": {
   "display_name": "Python 3",
   "language": "python",
   "name": "python3"
  },
  "language_info": {
   "codemirror_mode": {
    "name": "ipython",
    "version": 3
   },
   "file_extension": ".py",
   "mimetype": "text/x-python",
   "name": "python",
   "nbconvert_exporter": "python",
   "pygments_lexer": "ipython3",
   "version": "3.7.4"
  }
 },
 "nbformat": 4,
 "nbformat_minor": 2
}
