{
 "cells": [
  {
   "cell_type": "code",
   "execution_count": 26,
   "metadata": {},
   "outputs": [],
   "source": [
    "# TASK 1\n",
    "# 1st answer\n",
    "def myreduce(functname,var):\n",
    "    a =var[0]\n",
    "    for i in var[1:]:\n",
    "        a=functname(a,i)\n",
    "    return a"
   ]
  },
  {
   "cell_type": "code",
   "execution_count": 10,
   "metadata": {},
   "outputs": [],
   "source": [
    "def sum(x,y):\n",
    "    return x+y\n"
   ]
  },
  {
   "cell_type": "code",
   "execution_count": 11,
   "metadata": {},
   "outputs": [
    {
     "data": {
      "text/plain": [
       "55"
      ]
     },
     "execution_count": 11,
     "metadata": {},
     "output_type": "execute_result"
    }
   ],
   "source": [
    "myreduce(sum,[1,2,3,4,5,6,7,8,9,10])"
   ]
  },
  {
   "cell_type": "code",
   "execution_count": 12,
   "metadata": {},
   "outputs": [
    {
     "data": {
      "text/plain": [
       "['a', 'e', 'i', 'o', 'u']"
      ]
     },
     "execution_count": 12,
     "metadata": {},
     "output_type": "execute_result"
    }
   ],
   "source": [
    "# 2nd answer\n",
    "def myfilter(functname,var):\n",
    "    result =[]\n",
    "    for i in var:\n",
    "        if functname(i):\n",
    "            result.append(i)\n",
    "    return result\n",
    "def fun(variable):\n",
    "    letters=['a','e','i','o','u']\n",
    "    if (variable in letters):\n",
    "        return True\n",
    "    else:\n",
    "        return False\n",
    "myfilter(fun,['a','e','c','d','i','o','u','d'])"
   ]
  },
  {
   "cell_type": "code",
   "execution_count": 15,
   "metadata": {},
   "outputs": [
    {
     "name": "stdout",
     "output_type": "stream",
     "text": [
      "['A', 'C', 'A', 'D', 'G', 'I', 'L', 'D']\n"
     ]
    }
   ],
   "source": [
    "#3rd answer\n",
    "#3.1 answer\n",
    "word ='ACADGILD'\n",
    "alphabet =[alphabet for alphabet in word]\n",
    "print(str(alphabet))\n"
   ]
  },
  {
   "cell_type": "code",
   "execution_count": 19,
   "metadata": {},
   "outputs": [
    {
     "name": "stdout",
     "output_type": "stream",
     "text": [
      "['x', 'xx', 'xxx', 'xxxx', 'y', 'yy', 'yyy', 'yyyy', 'z', 'zz', 'zzz', 'zzzz']\n"
     ]
    }
   ],
   "source": [
    "#3.2 answer\n",
    "list =['x','y','z']\n",
    "result = [item*num for item in list for num in range(1,5)]\n",
    "print(str(result))"
   ]
  },
  {
   "cell_type": "code",
   "execution_count": 24,
   "metadata": {},
   "outputs": [
    {
     "name": "stdout",
     "output_type": "stream",
     "text": [
      "['x', 'y', 'z', 'xx', 'yy', 'zz', 'xxx', 'yyy', 'zzz', 'xxxx', 'yyyy', 'zzzz']\n"
     ]
    }
   ],
   "source": [
    "#3.3 answer\n",
    "\n",
    "list2 = ['x','y','z']\n",
    "result = [item*num for num in range(1,5) for item in list2]\n",
    "print(str(result))"
   ]
  },
  {
   "cell_type": "code",
   "execution_count": 25,
   "metadata": {},
   "outputs": [
    {
     "name": "stdout",
     "output_type": "stream",
     "text": [
      "[[2], [3], [4], [3], [4], [5], [4], [5], [6]]\n"
     ]
    }
   ],
   "source": [
    "# 3.4 answer\n",
    "list3=[2,3,4]\n",
    "result = [[item+num] for item in list3 for num in range(0,3)]\n",
    "print(str(result))"
   ]
  },
  {
   "cell_type": "code",
   "execution_count": 33,
   "metadata": {},
   "outputs": [
    {
     "name": "stdout",
     "output_type": "stream",
     "text": [
      "[[2, 3, 4, 5], [3, 4, 5, 6], [4, 5, 6, 7], [5, 6, 7, 8]]\n"
     ]
    }
   ],
   "source": [
    "# 3.5 answer\n",
    "list3=[2,3,4,5]\n",
    "result = [[item+num for item in list3] for num in range(0,4)]\n",
    "print(str(result))"
   ]
  },
  {
   "cell_type": "code",
   "execution_count": 36,
   "metadata": {},
   "outputs": [
    {
     "name": "stdout",
     "output_type": "stream",
     "text": [
      "[(1, 1), (2, 1), (3, 1), (1, 2), (2, 2), (3, 2), (1, 3), (2, 3), (3, 3)]\n"
     ]
    }
   ],
   "source": [
    "# 3.6 answer\n",
    "list3=[1,2,3]\n",
    "result = [(b,a) for a in list3 for b in list3]\n",
    "print(str(result))"
   ]
  },
  {
   "cell_type": "code",
   "execution_count": 47,
   "metadata": {},
   "outputs": [
    {
     "name": "stdout",
     "output_type": "stream",
     "text": [
      "devendra\n"
     ]
    }
   ],
   "source": [
    "# 4th answer\n",
    "def find_longest_word(wor_list):\n",
    "    list=[]\n",
    "    for i in wor_list:\n",
    "        list.append((len(i),i))\n",
    "    list.sort()\n",
    "    return list[-1][1]\n",
    "\n",
    "print(find_longest_word([\"devendra\",\"jaiswar\",\"kumar\"]))\n",
    "    "
   ]
  },
  {
   "cell_type": "code",
   "execution_count": 14,
   "metadata": {
    "scrolled": true
   },
   "outputs": [
    {
     "name": "stdout",
     "output_type": "stream",
     "text": [
      "enter the first side of rectangle:5\n",
      "enter the second side of rectangle:5\n",
      "enter the third side of rectangle:5\n",
      "area of rectanle 125\n"
     ]
    }
   ],
   "source": [
    "## task 2\n",
    "# 1st answer\n",
    "class rect():\n",
    "    def _init_(self,first,second,third):\n",
    "        self.first = first\n",
    "        self.second = second\n",
    "        self.third = third\n",
    "    def area(self):\n",
    "        return self.first*self.second*self.third\n",
    "a = int(input(\"enter the first side of rectangle:\"))\n",
    "b = int(input(\"enter the second side of rectangle:\"))\n",
    "c = int(input(\"enter the third side of rectangle:\"))\n",
    "obj=rectangle(a,b,c)\n",
    "s = (a + b + c) / 2\n",
    "p = (s*(s-a)*(s-b)*(s-c)) ** 0.5\n",
    "print(\"area of rectanle\",obj.area())\n"
   ]
  },
  {
   "cell_type": "code",
   "execution_count": 24,
   "metadata": {},
   "outputs": [
    {
     "name": "stdout",
     "output_type": "stream",
     "text": [
      "<filter object at 0x00000207F1754A08>\n"
     ]
    }
   ],
   "source": [
    "#2nd answer\n",
    "def filter_long_words(words,a):\n",
    "    return filter(lambda x: len(x) > n,words)\n",
    "print(str(filter_long_words([\"devendra\",\"Jaiswar\"],10)))\n",
    "\n"
   ]
  },
  {
   "cell_type": "code",
   "execution_count": 28,
   "metadata": {},
   "outputs": [
    {
     "name": "stdout",
     "output_type": "stream",
     "text": [
      "[2, 3, 4]\n"
     ]
    }
   ],
   "source": [
    "#3rd answer\n",
    "wordl=['ab','cde','erty']\n",
    "def function(wordl):\n",
    "    return list(map(lambda x:len(x),wordl))\n",
    "print(str(function(wordl)))"
   ]
  },
  {
   "cell_type": "code",
   "execution_count": null,
   "metadata": {},
   "outputs": [],
   "source": [
    "#4th answer\n"
   ]
  }
 ],
 "metadata": {
  "kernelspec": {
   "display_name": "Python 3",
   "language": "python",
   "name": "python3"
  },
  "language_info": {
   "codemirror_mode": {
    "name": "ipython",
    "version": 3
   },
   "file_extension": ".py",
   "mimetype": "text/x-python",
   "name": "python",
   "nbconvert_exporter": "python",
   "pygments_lexer": "ipython3",
   "version": "3.7.4"
  }
 },
 "nbformat": 4,
 "nbformat_minor": 2
}
