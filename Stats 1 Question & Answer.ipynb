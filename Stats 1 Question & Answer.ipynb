{
 "cells": [
  {
   "cell_type": "code",
   "execution_count": 18,
   "metadata": {},
   "outputs": [
    {
     "name": "stdout",
     "output_type": "stream",
     "text": [
      "Calculation using custom method\n",
      "Mean 1158.3333333333333\n",
      "variance 135416.6666666667\n",
      "std_dev 367.99003609699366\n"
     ]
    }
   ],
   "source": [
    "# 1st answer\n",
    "\n",
    "from math import sqrt\n",
    "\n",
    "def mean1(a):\n",
    "    return sum(a)/len(a)\n",
    "\n",
    "def variance1(a):\n",
    "    variance = 0.0\n",
    "    mean = mean1(a)\n",
    "    variance = sum((x - mean)**2 for x in a) / (len(a)-1)\n",
    "    return variance\n",
    "\n",
    "\n",
    "def std_dev(a):\n",
    "    return variance1(a)**0.5\n",
    "\n",
    "a = [1550,1700,900,850,1000,950]\n",
    "\n",
    "print(\"Calculation using custom method\")\n",
    "print (\"Mean \" + str(mean(arr)))\n",
    "print (\"variance \" + str(variance(arr)))\n",
    "print(\"std_dev \" + str(std_dev(arr)))\n"
   ]
  },
  {
   "cell_type": "code",
   "execution_count": 19,
   "metadata": {},
   "outputs": [
    {
     "name": "stdout",
     "output_type": "stream",
     "text": [
      "Calculation using statistics library\n",
      "Mean 1158.3333333333333\n",
      "Variance 135416.66666666666\n",
      "std_dev 367.9900360969936\n"
     ]
    }
   ],
   "source": [
    "# 2nd Answer\n",
    "Array = [3,21,98,203,17,9]\n",
    "\n",
    "print(\"Calculation using statistics library\")\n",
    "import statistics as stat\n",
    "print(str(\"Mean \" + str(stat.mean(arr))))\n",
    "print(str(\"Variance \" + str(stat.variance(arr))))\n",
    "print(str(\"std_dev \" + str(stat.stdev(arr))))\n",
    "\n"
   ]
  },
  {
   "cell_type": "code",
   "execution_count": null,
   "metadata": {},
   "outputs": [],
   "source": [
    "#3 answer\n",
    "Total No of Students = 100\n",
    "Passed Student = 80/100\n",
    "Failed in One Subject  = 10/100\n",
    "Failed in Two Subject = 7/100\n",
    "Failes in Three Subject = 3 \n",
    "The Probability distribution will be = 3/100\n",
    "                            "
   ]
  }
 ],
 "metadata": {
  "kernelspec": {
   "display_name": "Python 3",
   "language": "python",
   "name": "python3"
  },
  "language_info": {
   "codemirror_mode": {
    "name": "ipython",
    "version": 3
   },
   "file_extension": ".py",
   "mimetype": "text/x-python",
   "name": "python",
   "nbconvert_exporter": "python",
   "pygments_lexer": "ipython3",
   "version": "3.7.4"
  }
 },
 "nbformat": 4,
 "nbformat_minor": 2
}
