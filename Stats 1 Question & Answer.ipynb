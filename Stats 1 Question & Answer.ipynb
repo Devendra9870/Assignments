{
 "cells": [
  {
   "cell_type": "code",
   "execution_count": 18,
   "metadata": {},
   "outputs": [
    {
     "name": "stdout",
     "output_type": "stream",
     "text": [
      "Mean  1158.3333333333333\n",
      "Standard Deviation 367.9900360969936\n"
     ]
    }
   ],
   "source": [
    "#1 \n",
    "import statistics as stat\n",
    "a = [1550,1700,900,850,1000,950]\n",
    "a\n",
    "print(\"Mean \",stat.mean(a))\n",
    "print(\"Standard Deviation\", stat.stdev(a))"
   ]
  },
  {
   "cell_type": "code",
   "execution_count": 19,
   "metadata": {},
   "outputs": [
    {
     "name": "stdout",
     "output_type": "stream",
     "text": [
      "Varince 6219.9\n"
     ]
    }
   ],
   "source": [
    "#2\n",
    "import statistics as stat\n",
    "b= [3,21,98,203,17,9]\n",
    "b\n",
    "print(\"Varince\",stat.variance(b))"
   ]
  },
  {
   "cell_type": "code",
   "execution_count": null,
   "metadata": {},
   "outputs": [],
   "source": [
    "#3\n",
    "Total No of Students = 100\n",
    "Passed Student = 80\n",
    "Failed in One Subject  = 10\n",
    "Failed in Two Subject = 7\n",
    "Failes in Three Subject = 3 \n",
    "The Probability distribution will be = 7+3+10/100\n",
    "                                     = 20/100\n",
    "                                     = 1/5"
   ]
  }
 ],
 "metadata": {
  "kernelspec": {
   "display_name": "Python 3",
   "language": "python",
   "name": "python3"
  },
  "language_info": {
   "codemirror_mode": {
    "name": "ipython",
    "version": 3
   },
   "file_extension": ".py",
   "mimetype": "text/x-python",
   "name": "python",
   "nbconvert_exporter": "python",
   "pygments_lexer": "ipython3",
   "version": "3.7.4"
  }
 },
 "nbformat": 4,
 "nbformat_minor": 2
}
