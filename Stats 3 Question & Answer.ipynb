{
 "cells": [
  {
   "cell_type": "code",
   "execution_count": 3,
   "metadata": {},
   "outputs": [
    {
     "name": "stdout",
     "output_type": "stream",
     "text": [
      "Z Score : 3.2\n"
     ]
    }
   ],
   "source": [
    "#1\n",
    "import math\n",
    "a = 36\n",
    "b = 108\n",
    "c = 100\n",
    "d  = 15\n",
    "\n",
    "z = (b - c) / (d /math.sqrt(a))\n",
    "print(\"Z Score :\",z)\n"
   ]
  },
  {
   "cell_type": "code",
   "execution_count": 8,
   "metadata": {},
   "outputs": [
    {
     "name": "stdout",
     "output_type": "stream",
     "text": [
      "Mu :  0.050000000000000044 Std :  0.07061869440877536\n",
      "Z_score(p1,p2) :  -0.7080278164104213\n"
     ]
    }
   ],
   "source": [
    "# 2\n",
    "a = 100.\n",
    "b = 100\n",
    "\n",
    "c = 0.52\n",
    "d = 0.48\n",
    "e = 0.47\n",
    "f = 0.53\n",
    "\n",
    "\n",
    "mu =  c - e\n",
    "std = math.sqrt(((c * d ) / a) + ((e * f) /b))\n",
    "print(\"Mu : \",mu,\"Std : \",std)\n",
    "print(\"Z_score(p1,p2) : \",Z_p1_p2)\n",
    "\n"
   ]
  },
  {
   "cell_type": "code",
   "execution_count": 10,
   "metadata": {},
   "outputs": [
    {
     "name": "stdout",
     "output_type": "stream",
     "text": [
      "Z Score :  0.35406698564593303\n",
      "My Score is in the range 817 - 1235  with a  zscore 0.35\n"
     ]
    }
   ],
   "source": [
    "# 3 \n",
    "a = 1100 \n",
    "b = 1026 \n",
    "c = 209 \n",
    "z = ( a - b)/c\n",
    "print(\"Z Score : \",z)\n",
    "#the above calculation shows that my score is 0.35 standard deviations above the mean\n",
    "print(\"My Score is in the range {} - {}  with a  zscore {:.2f}\".format(b - c,b + c,z))"
   ]
  },
  {
   "cell_type": "code",
   "execution_count": null,
   "metadata": {},
   "outputs": [],
   "source": []
  }
 ],
 "metadata": {
  "kernelspec": {
   "display_name": "Python 3",
   "language": "python",
   "name": "python3"
  },
  "language_info": {
   "codemirror_mode": {
    "name": "ipython",
    "version": 3
   },
   "file_extension": ".py",
   "mimetype": "text/x-python",
   "name": "python",
   "nbconvert_exporter": "python",
   "pygments_lexer": "ipython3",
   "version": "3.7.4"
  }
 },
 "nbformat": 4,
 "nbformat_minor": 2
}
